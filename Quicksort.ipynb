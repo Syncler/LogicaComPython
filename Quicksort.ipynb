{
 "cells": [
  {
   "cell_type": "code",
   "execution_count": 1,
   "id": "8cc0b39c",
   "metadata": {},
   "outputs": [
    {
     "name": "stdout",
     "output_type": "stream",
     "text": [
      "Array ordenado:\n",
      "[1, 3, 4, 5, 6, 7, 12, 15]\n"
     ]
    }
   ],
   "source": [
    "def quicksort(arr):\n",
    "    if len(arr) <= 1:\n",
    "        return arr\n",
    "    else:\n",
    "        pivot = arr[0]  # Escolhe o primeiro elemento como pivô\n",
    "        less = [x for x in arr[1:] if x < pivot]  # Elementos menores que o pivô\n",
    "        greater = [x for x in arr[1:] if x >= pivot]  # Elementos maiores ou iguais ao pivô\n",
    "        return quicksort(less) + [pivot] + quicksort(greater)\n",
    "\n",
    "# Exemplo de uso\n",
    "arr = [12, 4, 5, 6, 7, 3, 1, 15]\n",
    "sorted_arr = quicksort(arr)\n",
    "print(\"Array ordenado:\")\n",
    "print(sorted_arr)\n"
   ]
  },
  {
   "cell_type": "code",
   "execution_count": null,
   "id": "eac62319",
   "metadata": {},
   "outputs": [],
   "source": []
  }
 ],
 "metadata": {
  "kernelspec": {
   "display_name": "Python 3 (ipykernel)",
   "language": "python",
   "name": "python3"
  },
  "language_info": {
   "codemirror_mode": {
    "name": "ipython",
    "version": 3
   },
   "file_extension": ".py",
   "mimetype": "text/x-python",
   "name": "python",
   "nbconvert_exporter": "python",
   "pygments_lexer": "ipython3",
   "version": "3.10.12"
  }
 },
 "nbformat": 4,
 "nbformat_minor": 5
}
