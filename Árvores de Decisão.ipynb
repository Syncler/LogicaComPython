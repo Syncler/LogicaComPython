{
 "cells": [
  {
   "cell_type": "code",
   "execution_count": 12,
   "id": "f9c7d131",
   "metadata": {},
   "outputs": [
    {
     "name": "stdout",
     "output_type": "stream",
     "text": [
      "Precisão do modelo: 0.9111111111111111\n",
      "Relatório de Classificação:\n",
      "               precision    recall  f1-score   support\n",
      "\n",
      "           0       1.00      1.00      1.00        11\n",
      "           1       0.69      1.00      0.82         9\n",
      "           2       1.00      0.84      0.91        25\n",
      "\n",
      "    accuracy                           0.91        45\n",
      "   macro avg       0.90      0.95      0.91        45\n",
      "weighted avg       0.94      0.91      0.92        45\n",
      "\n"
     ]
    }
   ],
   "source": [
    "# Importando as bibliotecas necessárias\n",
    "from sklearn import datasets\n",
    "from sklearn.model_selection import train_test_split\n",
    "from sklearn.tree import DecisionTreeClassifier\n",
    "from sklearn.metrics import accuracy_score, classification_report\n",
    "\n",
    "# Carregando o conjunto de dados Iris como exemplo\n",
    "iris = datasets.load_iris()\n",
    "X = iris.data\n",
    "y = iris.target\n",
    "\n",
    "# Dividindo o conjunto de dados em dados de treinamento e teste\n",
    "X_train, X_test, y_train, y_test = train_test_split(X, y, test_size=0.3, random_state=10000)\n",
    "\n",
    "# Criando um modelo de Árvore de Decisão para classificação\n",
    "modelo = DecisionTreeClassifier(random_state=10000)  # Usando um seed para reprodutibilidade\n",
    "\n",
    "# Treinando o modelo com os dados de treinamento\n",
    "modelo.fit(X_train, y_train)\n",
    "\n",
    "# Fazendo previsões com os dados de teste\n",
    "previsoes = modelo.predict(X_test)\n",
    "\n",
    "# Calculando a precisão do modelo\n",
    "precisao = accuracy_score(y_test, previsoes)\n",
    "print(\"Precisão do modelo:\", precisao)\n",
    "\n",
    "# Exibindo o relatório de classificação\n",
    "print(\"Relatório de Classificação:\\n\", classification_report(y_test, previsoes))\n"
   ]
  },
  {
   "cell_type": "markdown",
   "id": "090d305c",
   "metadata": {},
   "source": [
    "*** Neste exemplo, usamos o conjunto de dados Iris novamente. Criamos um modelo de Árvore de Decisão para classificação e treinamos o modelo com os dados de treinamento. Em seguida, usamos o modelo treinado para fazer previsões com os dados de teste. A precisão do modelo e um relatório de classificação são exibidos para avaliar o desempenho da Árvore de Decisão.\n",
    "\n",
    "Certifique-se de ter a biblioteca scikit-learn instalada para executar este código. Você pode instalá-la usando pip install scikit-learn. Árvores de Decisão são poderosas e versáteis, podendo ser usadas em problemas tanto de classificação quanto de regressão. Você pode ajustar vários parâmetros para otimizar o desempenho do modelo de acordo com o seu conjunto de dados e requisitos específicos."
   ]
  },
  {
   "cell_type": "code",
   "execution_count": null,
   "id": "1769e55b",
   "metadata": {},
   "outputs": [],
   "source": []
  }
 ],
 "metadata": {
  "kernelspec": {
   "display_name": "Python 3 (ipykernel)",
   "language": "python",
   "name": "python3"
  },
  "language_info": {
   "codemirror_mode": {
    "name": "ipython",
    "version": 3
   },
   "file_extension": ".py",
   "mimetype": "text/x-python",
   "name": "python",
   "nbconvert_exporter": "python",
   "pygments_lexer": "ipython3",
   "version": "3.10.12"
  }
 },
 "nbformat": 4,
 "nbformat_minor": 5
}
