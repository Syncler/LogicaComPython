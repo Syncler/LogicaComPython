{
 "cells": [
  {
   "cell_type": "code",
   "execution_count": 4,
   "id": "70e21b7b",
   "metadata": {},
   "outputs": [
    {
     "name": "stdout",
     "output_type": "stream",
     "text": [
      "Array ordenado:\n",
      "[-100, -1, 5, 5.5, 6, 7, 11, 12, 13, 14, 15, 15, 90]\n"
     ]
    }
   ],
   "source": [
    "def heapify(arr, n, i):\n",
    "    largest = i\n",
    "    left = 2 * i + 1\n",
    "    right = 2 * i + 2\n",
    "    \n",
    "    if left < n and arr[left] > arr[largest]:\n",
    "        largest = left\n",
    "    \n",
    "    if right < n and arr[right] > arr[largest]:\n",
    "        largest = right\n",
    "    \n",
    "    if largest != i:\n",
    "        arr[i], arr[largest] = arr[largest], arr[i]  # Troca os elementos\n",
    "        heapify(arr, n, largest)\n",
    "\n",
    "def heap_sort(arr):\n",
    "    n = len(arr)\n",
    "    \n",
    "    # Construir um max-heap.\n",
    "    for i in range(n // 2 - 1, -1, -1):\n",
    "        heapify(arr, n, i)\n",
    "    \n",
    "    # Extrair elementos um por um do heap.\n",
    "    for i in range(n - 1, 0, -1):\n",
    "        arr[i], arr[0] = arr[0], arr[i]  # Troca os elementos\n",
    "        heapify(arr, i, 0)\n",
    "\n",
    "# Exemplo de uso\n",
    "arr = [-100, 12, 11, 13, 5, 6, 7,14, 15, 15, 90, 5.5, -1, a, A]\n",
    "heap_sort(arr)\n",
    "print(\"Array ordenado:\")\n",
    "print(arr)\n"
   ]
  },
  {
   "cell_type": "code",
   "execution_count": null,
   "id": "e99c7c35",
   "metadata": {},
   "outputs": [],
   "source": []
  }
 ],
 "metadata": {
  "kernelspec": {
   "display_name": "Python 3 (ipykernel)",
   "language": "python",
   "name": "python3"
  },
  "language_info": {
   "codemirror_mode": {
    "name": "ipython",
    "version": 3
   },
   "file_extension": ".py",
   "mimetype": "text/x-python",
   "name": "python",
   "nbconvert_exporter": "python",
   "pygments_lexer": "ipython3",
   "version": "3.10.12"
  }
 },
 "nbformat": 4,
 "nbformat_minor": 5
}
